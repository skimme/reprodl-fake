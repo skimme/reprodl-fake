{
 "metadata": {
  "language_info": {
   "codemirror_mode": {
    "name": "ipython",
    "version": 3
   },
   "file_extension": ".py",
   "mimetype": "text/x-python",
   "name": "python",
   "nbconvert_exporter": "python",
   "pygments_lexer": "ipython3",
   "version": "3.8.8"
  },
  "orig_nbformat": 2,
  "kernelspec": {
   "name": "python388jvsc74a57bd0c2b9eba8fa8a75b5f19bcff519fcf4bf8293d9770a39cc22ab9247f7858d6813",
   "display_name": "Python 3.8.8 64-bit ('d2l': conda)"
  }
 },
 "nbformat": 4,
 "nbformat_minor": 2,
 "cells": [
  {
   "cell_type": "code",
   "execution_count": 19,
   "metadata": {},
   "outputs": [],
   "source": [
    "import torch\n",
    "import torchaudio\n",
    "import pytorch_lightning as pl\n",
    "import matplotlib.pyplot as plt\n",
    "import pandas as pd\n",
    "from pathlib import Path"
   ]
  },
  {
   "cell_type": "code",
   "execution_count": 2,
   "metadata": {},
   "outputs": [],
   "source": [
    "import soundfile"
   ]
  },
  {
   "cell_type": "code",
   "execution_count": 47,
   "metadata": {},
   "outputs": [],
   "source": [
    "from torch import nn\n",
    "from torch.nn import functional as F"
   ]
  },
  {
   "cell_type": "code",
   "execution_count": 53,
   "metadata": {},
   "outputs": [],
   "source": [
    "from pytorch_lightning.metrics import functional"
   ]
  },
  {
   "source": [
    "## Step1: Loading the data"
   ],
   "cell_type": "markdown",
   "metadata": {}
  },
  {
   "cell_type": "code",
   "execution_count": 3,
   "metadata": {},
   "outputs": [],
   "source": [
    "datapath = Path(\"data\\ESC-50-master\\ESC-50-master\")"
   ]
  },
  {
   "cell_type": "code",
   "execution_count": 4,
   "metadata": {},
   "outputs": [
    {
     "output_type": "execute_result",
     "data": {
      "text/plain": [
       "True"
      ]
     },
     "metadata": {},
     "execution_count": 4
    }
   ],
   "source": [
    "datapath.exists()"
   ]
  },
  {
   "cell_type": "code",
   "execution_count": 5,
   "metadata": {},
   "outputs": [],
   "source": [
    "csv = pd.read_csv(datapath / Path(\"meta/esc50.csv\"))"
   ]
  },
  {
   "cell_type": "code",
   "execution_count": 6,
   "metadata": {},
   "outputs": [
    {
     "output_type": "execute_result",
     "data": {
      "text/plain": [
       "            filename  fold  target        category  esc10  src_file take\n",
       "0   1-100032-A-0.wav     1       0             dog   True    100032    A\n",
       "1  1-100038-A-14.wav     1      14  chirping_birds  False    100038    A\n",
       "2  1-100210-A-36.wav     1      36  vacuum_cleaner  False    100210    A\n",
       "3  1-100210-B-36.wav     1      36  vacuum_cleaner  False    100210    B\n",
       "4  1-101296-A-19.wav     1      19    thunderstorm  False    101296    A"
      ],
      "text/html": "<div>\n<style scoped>\n    .dataframe tbody tr th:only-of-type {\n        vertical-align: middle;\n    }\n\n    .dataframe tbody tr th {\n        vertical-align: top;\n    }\n\n    .dataframe thead th {\n        text-align: right;\n    }\n</style>\n<table border=\"1\" class=\"dataframe\">\n  <thead>\n    <tr style=\"text-align: right;\">\n      <th></th>\n      <th>filename</th>\n      <th>fold</th>\n      <th>target</th>\n      <th>category</th>\n      <th>esc10</th>\n      <th>src_file</th>\n      <th>take</th>\n    </tr>\n  </thead>\n  <tbody>\n    <tr>\n      <th>0</th>\n      <td>1-100032-A-0.wav</td>\n      <td>1</td>\n      <td>0</td>\n      <td>dog</td>\n      <td>True</td>\n      <td>100032</td>\n      <td>A</td>\n    </tr>\n    <tr>\n      <th>1</th>\n      <td>1-100038-A-14.wav</td>\n      <td>1</td>\n      <td>14</td>\n      <td>chirping_birds</td>\n      <td>False</td>\n      <td>100038</td>\n      <td>A</td>\n    </tr>\n    <tr>\n      <th>2</th>\n      <td>1-100210-A-36.wav</td>\n      <td>1</td>\n      <td>36</td>\n      <td>vacuum_cleaner</td>\n      <td>False</td>\n      <td>100210</td>\n      <td>A</td>\n    </tr>\n    <tr>\n      <th>3</th>\n      <td>1-100210-B-36.wav</td>\n      <td>1</td>\n      <td>36</td>\n      <td>vacuum_cleaner</td>\n      <td>False</td>\n      <td>100210</td>\n      <td>B</td>\n    </tr>\n    <tr>\n      <th>4</th>\n      <td>1-101296-A-19.wav</td>\n      <td>1</td>\n      <td>19</td>\n      <td>thunderstorm</td>\n      <td>False</td>\n      <td>101296</td>\n      <td>A</td>\n    </tr>\n  </tbody>\n</table>\n</div>"
     },
     "metadata": {},
     "execution_count": 6
    }
   ],
   "source": [
    "csv.head()"
   ]
  },
  {
   "cell_type": "code",
   "execution_count": 12,
   "metadata": {},
   "outputs": [],
   "source": [
    "x, sr = torchaudio.load(datapath / 'audio' / csv.iloc[0, 0], normalization=True)"
   ]
  },
  {
   "cell_type": "code",
   "execution_count": 13,
   "metadata": {},
   "outputs": [
    {
     "output_type": "execute_result",
     "data": {
      "text/plain": [
       "torch.Size([1, 220500])"
      ]
     },
     "metadata": {},
     "execution_count": 13
    }
   ],
   "source": [
    "x.shape"
   ]
  },
  {
   "cell_type": "code",
   "execution_count": 14,
   "metadata": {},
   "outputs": [
    {
     "output_type": "execute_result",
     "data": {
      "text/plain": [
       "torch.Size([1, 40000])"
      ]
     },
     "metadata": {},
     "execution_count": 14
    }
   ],
   "source": [
    "torchaudio.transforms.Resample(orig_freq=sr, new_freq=8000)(x).shape"
   ]
  },
  {
   "cell_type": "code",
   "execution_count": 25,
   "metadata": {},
   "outputs": [
    {
     "output_type": "execute_result",
     "data": {
      "text/plain": [
       "[<matplotlib.lines.Line2D at 0x295fbf38dc0>]"
      ]
     },
     "metadata": {},
     "execution_count": 25
    },
    {
     "output_type": "display_data",
     "data": {
      "text/plain": "<Figure size 432x288 with 1 Axes>",
      "image/svg+xml": "<?xml version=\"1.0\" encoding=\"utf-8\" standalone=\"no\"?>\r\n<!DOCTYPE svg PUBLIC \"-//W3C//DTD SVG 1.1//EN\"\r\n  \"http://www.w3.org/Graphics/SVG/1.1/DTD/svg11.dtd\">\r\n<svg height=\"248.518125pt\" version=\"1.1\" viewBox=\"0 0 386.845312 248.518125\" width=\"386.845312pt\" xmlns=\"http://www.w3.org/2000/svg\" xmlns:xlink=\"http://www.w3.org/1999/xlink\">\r\n <metadata>\r\n  <rdf:RDF xmlns:cc=\"http://creativecommons.org/ns#\" xmlns:dc=\"http://purl.org/dc/elements/1.1/\" xmlns:rdf=\"http://www.w3.org/1999/02/22-rdf-syntax-ns#\">\r\n   <cc:Work>\r\n    <dc:type rdf:resource=\"http://purl.org/dc/dcmitype/StillImage\"/>\r\n    <dc:date>2021-06-07T17:56:39.314562</dc:date>\r\n    <dc:format>image/svg+xml</dc:format>\r\n    <dc:creator>\r\n     <cc:Agent>\r\n      <dc:title>Matplotlib v3.4.2, https://matplotlib.org/</dc:title>\r\n     </cc:Agent>\r\n    </dc:creator>\r\n   </cc:Work>\r\n  </rdf:RDF>\r\n </metadata>\r\n <defs>\r\n  <style type=\"text/css\">*{stroke-linecap:butt;stroke-linejoin:round;}</style>\r\n </defs>\r\n <g id=\"figure_1\">\r\n  <g id=\"patch_1\">\r\n   <path d=\"M 0 248.518125 \r\nL 386.845312 248.518125 \r\nL 386.845312 0 \r\nL 0 0 \r\nz\r\n\" style=\"fill:none;\"/>\r\n  </g>\r\n  <g id=\"axes_1\">\r\n   <g id=\"patch_2\">\r\n    <path d=\"M 44.845313 224.64 \r\nL 379.645313 224.64 \r\nL 379.645313 7.2 \r\nL 44.845313 7.2 \r\nz\r\n\" style=\"fill:#ffffff;\"/>\r\n   </g>\r\n   <g id=\"matplotlib.axis_1\">\r\n    <g id=\"xtick_1\">\r\n     <g id=\"line2d_1\">\r\n      <defs>\r\n       <path d=\"M 0 0 \r\nL 0 3.5 \r\n\" id=\"me870fc57de\" style=\"stroke:#000000;stroke-width:0.8;\"/>\r\n      </defs>\r\n      <g>\r\n       <use style=\"stroke:#000000;stroke-width:0.8;\" x=\"60.063494\" xlink:href=\"#me870fc57de\" y=\"224.64\"/>\r\n      </g>\r\n     </g>\r\n     <g id=\"text_1\">\r\n      <!-- 0 -->\r\n      <g transform=\"translate(56.882244 239.238437)scale(0.1 -0.1)\">\r\n       <defs>\r\n        <path d=\"M 2034 4250 \r\nQ 1547 4250 1301 3770 \r\nQ 1056 3291 1056 2328 \r\nQ 1056 1369 1301 889 \r\nQ 1547 409 2034 409 \r\nQ 2525 409 2770 889 \r\nQ 3016 1369 3016 2328 \r\nQ 3016 3291 2770 3770 \r\nQ 2525 4250 2034 4250 \r\nz\r\nM 2034 4750 \r\nQ 2819 4750 3233 4129 \r\nQ 3647 3509 3647 2328 \r\nQ 3647 1150 3233 529 \r\nQ 2819 -91 2034 -91 \r\nQ 1250 -91 836 529 \r\nQ 422 1150 422 2328 \r\nQ 422 3509 836 4129 \r\nQ 1250 4750 2034 4750 \r\nz\r\n\" id=\"DejaVuSans-30\" transform=\"scale(0.015625)\"/>\r\n       </defs>\r\n       <use xlink:href=\"#DejaVuSans-30\"/>\r\n      </g>\r\n     </g>\r\n    </g>\r\n    <g id=\"xtick_2\">\r\n     <g id=\"line2d_2\">\r\n      <g>\r\n       <use style=\"stroke:#000000;stroke-width:0.8;\" x=\"129.081757\" xlink:href=\"#me870fc57de\" y=\"224.64\"/>\r\n      </g>\r\n     </g>\r\n     <g id=\"text_2\">\r\n      <!-- 10000 -->\r\n      <g transform=\"translate(113.175507 239.238437)scale(0.1 -0.1)\">\r\n       <defs>\r\n        <path d=\"M 794 531 \r\nL 1825 531 \r\nL 1825 4091 \r\nL 703 3866 \r\nL 703 4441 \r\nL 1819 4666 \r\nL 2450 4666 \r\nL 2450 531 \r\nL 3481 531 \r\nL 3481 0 \r\nL 794 0 \r\nL 794 531 \r\nz\r\n\" id=\"DejaVuSans-31\" transform=\"scale(0.015625)\"/>\r\n       </defs>\r\n       <use xlink:href=\"#DejaVuSans-31\"/>\r\n       <use x=\"63.623047\" xlink:href=\"#DejaVuSans-30\"/>\r\n       <use x=\"127.246094\" xlink:href=\"#DejaVuSans-30\"/>\r\n       <use x=\"190.869141\" xlink:href=\"#DejaVuSans-30\"/>\r\n       <use x=\"254.492188\" xlink:href=\"#DejaVuSans-30\"/>\r\n      </g>\r\n     </g>\r\n    </g>\r\n    <g id=\"xtick_3\">\r\n     <g id=\"line2d_3\">\r\n      <g>\r\n       <use style=\"stroke:#000000;stroke-width:0.8;\" x=\"198.10002\" xlink:href=\"#me870fc57de\" y=\"224.64\"/>\r\n      </g>\r\n     </g>\r\n     <g id=\"text_3\">\r\n      <!-- 20000 -->\r\n      <g transform=\"translate(182.19377 239.238437)scale(0.1 -0.1)\">\r\n       <defs>\r\n        <path d=\"M 1228 531 \r\nL 3431 531 \r\nL 3431 0 \r\nL 469 0 \r\nL 469 531 \r\nQ 828 903 1448 1529 \r\nQ 2069 2156 2228 2338 \r\nQ 2531 2678 2651 2914 \r\nQ 2772 3150 2772 3378 \r\nQ 2772 3750 2511 3984 \r\nQ 2250 4219 1831 4219 \r\nQ 1534 4219 1204 4116 \r\nQ 875 4013 500 3803 \r\nL 500 4441 \r\nQ 881 4594 1212 4672 \r\nQ 1544 4750 1819 4750 \r\nQ 2544 4750 2975 4387 \r\nQ 3406 4025 3406 3419 \r\nQ 3406 3131 3298 2873 \r\nQ 3191 2616 2906 2266 \r\nQ 2828 2175 2409 1742 \r\nQ 1991 1309 1228 531 \r\nz\r\n\" id=\"DejaVuSans-32\" transform=\"scale(0.015625)\"/>\r\n       </defs>\r\n       <use xlink:href=\"#DejaVuSans-32\"/>\r\n       <use x=\"63.623047\" xlink:href=\"#DejaVuSans-30\"/>\r\n       <use x=\"127.246094\" xlink:href=\"#DejaVuSans-30\"/>\r\n       <use x=\"190.869141\" xlink:href=\"#DejaVuSans-30\"/>\r\n       <use x=\"254.492188\" xlink:href=\"#DejaVuSans-30\"/>\r\n      </g>\r\n     </g>\r\n    </g>\r\n    <g id=\"xtick_4\">\r\n     <g id=\"line2d_4\">\r\n      <g>\r\n       <use style=\"stroke:#000000;stroke-width:0.8;\" x=\"267.118282\" xlink:href=\"#me870fc57de\" y=\"224.64\"/>\r\n      </g>\r\n     </g>\r\n     <g id=\"text_4\">\r\n      <!-- 30000 -->\r\n      <g transform=\"translate(251.212032 239.238437)scale(0.1 -0.1)\">\r\n       <defs>\r\n        <path d=\"M 2597 2516 \r\nQ 3050 2419 3304 2112 \r\nQ 3559 1806 3559 1356 \r\nQ 3559 666 3084 287 \r\nQ 2609 -91 1734 -91 \r\nQ 1441 -91 1130 -33 \r\nQ 819 25 488 141 \r\nL 488 750 \r\nQ 750 597 1062 519 \r\nQ 1375 441 1716 441 \r\nQ 2309 441 2620 675 \r\nQ 2931 909 2931 1356 \r\nQ 2931 1769 2642 2001 \r\nQ 2353 2234 1838 2234 \r\nL 1294 2234 \r\nL 1294 2753 \r\nL 1863 2753 \r\nQ 2328 2753 2575 2939 \r\nQ 2822 3125 2822 3475 \r\nQ 2822 3834 2567 4026 \r\nQ 2313 4219 1838 4219 \r\nQ 1578 4219 1281 4162 \r\nQ 984 4106 628 3988 \r\nL 628 4550 \r\nQ 988 4650 1302 4700 \r\nQ 1616 4750 1894 4750 \r\nQ 2613 4750 3031 4423 \r\nQ 3450 4097 3450 3541 \r\nQ 3450 3153 3228 2886 \r\nQ 3006 2619 2597 2516 \r\nz\r\n\" id=\"DejaVuSans-33\" transform=\"scale(0.015625)\"/>\r\n       </defs>\r\n       <use xlink:href=\"#DejaVuSans-33\"/>\r\n       <use x=\"63.623047\" xlink:href=\"#DejaVuSans-30\"/>\r\n       <use x=\"127.246094\" xlink:href=\"#DejaVuSans-30\"/>\r\n       <use x=\"190.869141\" xlink:href=\"#DejaVuSans-30\"/>\r\n       <use x=\"254.492188\" xlink:href=\"#DejaVuSans-30\"/>\r\n      </g>\r\n     </g>\r\n    </g>\r\n    <g id=\"xtick_5\">\r\n     <g id=\"line2d_5\">\r\n      <g>\r\n       <use style=\"stroke:#000000;stroke-width:0.8;\" x=\"336.136545\" xlink:href=\"#me870fc57de\" y=\"224.64\"/>\r\n      </g>\r\n     </g>\r\n     <g id=\"text_5\">\r\n      <!-- 40000 -->\r\n      <g transform=\"translate(320.230295 239.238437)scale(0.1 -0.1)\">\r\n       <defs>\r\n        <path d=\"M 2419 4116 \r\nL 825 1625 \r\nL 2419 1625 \r\nL 2419 4116 \r\nz\r\nM 2253 4666 \r\nL 3047 4666 \r\nL 3047 1625 \r\nL 3713 1625 \r\nL 3713 1100 \r\nL 3047 1100 \r\nL 3047 0 \r\nL 2419 0 \r\nL 2419 1100 \r\nL 313 1100 \r\nL 313 1709 \r\nL 2253 4666 \r\nz\r\n\" id=\"DejaVuSans-34\" transform=\"scale(0.015625)\"/>\r\n       </defs>\r\n       <use xlink:href=\"#DejaVuSans-34\"/>\r\n       <use x=\"63.623047\" xlink:href=\"#DejaVuSans-30\"/>\r\n       <use x=\"127.246094\" xlink:href=\"#DejaVuSans-30\"/>\r\n       <use x=\"190.869141\" xlink:href=\"#DejaVuSans-30\"/>\r\n       <use x=\"254.492188\" xlink:href=\"#DejaVuSans-30\"/>\r\n      </g>\r\n     </g>\r\n    </g>\r\n   </g>\r\n   <g id=\"matplotlib.axis_2\">\r\n    <g id=\"ytick_1\">\r\n     <g id=\"line2d_6\">\r\n      <defs>\r\n       <path d=\"M 0 0 \r\nL -3.5 0 \r\n\" id=\"m219e89d03b\" style=\"stroke:#000000;stroke-width:0.8;\"/>\r\n      </defs>\r\n      <g>\r\n       <use style=\"stroke:#000000;stroke-width:0.8;\" x=\"44.845313\" xlink:href=\"#m219e89d03b\" y=\"222.692153\"/>\r\n      </g>\r\n     </g>\r\n     <g id=\"text_6\">\r\n      <!-- −1.00 -->\r\n      <g transform=\"translate(7.2 226.491372)scale(0.1 -0.1)\">\r\n       <defs>\r\n        <path d=\"M 678 2272 \r\nL 4684 2272 \r\nL 4684 1741 \r\nL 678 1741 \r\nL 678 2272 \r\nz\r\n\" id=\"DejaVuSans-2212\" transform=\"scale(0.015625)\"/>\r\n        <path d=\"M 684 794 \r\nL 1344 794 \r\nL 1344 0 \r\nL 684 0 \r\nL 684 794 \r\nz\r\n\" id=\"DejaVuSans-2e\" transform=\"scale(0.015625)\"/>\r\n       </defs>\r\n       <use xlink:href=\"#DejaVuSans-2212\"/>\r\n       <use x=\"83.789062\" xlink:href=\"#DejaVuSans-31\"/>\r\n       <use x=\"147.412109\" xlink:href=\"#DejaVuSans-2e\"/>\r\n       <use x=\"179.199219\" xlink:href=\"#DejaVuSans-30\"/>\r\n       <use x=\"242.822266\" xlink:href=\"#DejaVuSans-30\"/>\r\n      </g>\r\n     </g>\r\n    </g>\r\n    <g id=\"ytick_2\">\r\n     <g id=\"line2d_7\">\r\n      <g>\r\n       <use style=\"stroke:#000000;stroke-width:0.8;\" x=\"44.845313\" xlink:href=\"#m219e89d03b\" y=\"196.976177\"/>\r\n      </g>\r\n     </g>\r\n     <g id=\"text_7\">\r\n      <!-- −0.75 -->\r\n      <g transform=\"translate(7.2 200.775396)scale(0.1 -0.1)\">\r\n       <defs>\r\n        <path d=\"M 525 4666 \r\nL 3525 4666 \r\nL 3525 4397 \r\nL 1831 0 \r\nL 1172 0 \r\nL 2766 4134 \r\nL 525 4134 \r\nL 525 4666 \r\nz\r\n\" id=\"DejaVuSans-37\" transform=\"scale(0.015625)\"/>\r\n        <path d=\"M 691 4666 \r\nL 3169 4666 \r\nL 3169 4134 \r\nL 1269 4134 \r\nL 1269 2991 \r\nQ 1406 3038 1543 3061 \r\nQ 1681 3084 1819 3084 \r\nQ 2600 3084 3056 2656 \r\nQ 3513 2228 3513 1497 \r\nQ 3513 744 3044 326 \r\nQ 2575 -91 1722 -91 \r\nQ 1428 -91 1123 -41 \r\nQ 819 9 494 109 \r\nL 494 744 \r\nQ 775 591 1075 516 \r\nQ 1375 441 1709 441 \r\nQ 2250 441 2565 725 \r\nQ 2881 1009 2881 1497 \r\nQ 2881 1984 2565 2268 \r\nQ 2250 2553 1709 2553 \r\nQ 1456 2553 1204 2497 \r\nQ 953 2441 691 2322 \r\nL 691 4666 \r\nz\r\n\" id=\"DejaVuSans-35\" transform=\"scale(0.015625)\"/>\r\n       </defs>\r\n       <use xlink:href=\"#DejaVuSans-2212\"/>\r\n       <use x=\"83.789062\" xlink:href=\"#DejaVuSans-30\"/>\r\n       <use x=\"147.412109\" xlink:href=\"#DejaVuSans-2e\"/>\r\n       <use x=\"179.199219\" xlink:href=\"#DejaVuSans-37\"/>\r\n       <use x=\"242.822266\" xlink:href=\"#DejaVuSans-35\"/>\r\n      </g>\r\n     </g>\r\n    </g>\r\n    <g id=\"ytick_3\">\r\n     <g id=\"line2d_8\">\r\n      <g>\r\n       <use style=\"stroke:#000000;stroke-width:0.8;\" x=\"44.845313\" xlink:href=\"#m219e89d03b\" y=\"171.260202\"/>\r\n      </g>\r\n     </g>\r\n     <g id=\"text_8\">\r\n      <!-- −0.50 -->\r\n      <g transform=\"translate(7.2 175.059421)scale(0.1 -0.1)\">\r\n       <use xlink:href=\"#DejaVuSans-2212\"/>\r\n       <use x=\"83.789062\" xlink:href=\"#DejaVuSans-30\"/>\r\n       <use x=\"147.412109\" xlink:href=\"#DejaVuSans-2e\"/>\r\n       <use x=\"179.199219\" xlink:href=\"#DejaVuSans-35\"/>\r\n       <use x=\"242.822266\" xlink:href=\"#DejaVuSans-30\"/>\r\n      </g>\r\n     </g>\r\n    </g>\r\n    <g id=\"ytick_4\">\r\n     <g id=\"line2d_9\">\r\n      <g>\r\n       <use style=\"stroke:#000000;stroke-width:0.8;\" x=\"44.845313\" xlink:href=\"#m219e89d03b\" y=\"145.544226\"/>\r\n      </g>\r\n     </g>\r\n     <g id=\"text_9\">\r\n      <!-- −0.25 -->\r\n      <g transform=\"translate(7.2 149.343445)scale(0.1 -0.1)\">\r\n       <use xlink:href=\"#DejaVuSans-2212\"/>\r\n       <use x=\"83.789062\" xlink:href=\"#DejaVuSans-30\"/>\r\n       <use x=\"147.412109\" xlink:href=\"#DejaVuSans-2e\"/>\r\n       <use x=\"179.199219\" xlink:href=\"#DejaVuSans-32\"/>\r\n       <use x=\"242.822266\" xlink:href=\"#DejaVuSans-35\"/>\r\n      </g>\r\n     </g>\r\n    </g>\r\n    <g id=\"ytick_5\">\r\n     <g id=\"line2d_10\">\r\n      <g>\r\n       <use style=\"stroke:#000000;stroke-width:0.8;\" x=\"44.845313\" xlink:href=\"#m219e89d03b\" y=\"119.828251\"/>\r\n      </g>\r\n     </g>\r\n     <g id=\"text_10\">\r\n      <!-- 0.00 -->\r\n      <g transform=\"translate(15.579688 123.627469)scale(0.1 -0.1)\">\r\n       <use xlink:href=\"#DejaVuSans-30\"/>\r\n       <use x=\"63.623047\" xlink:href=\"#DejaVuSans-2e\"/>\r\n       <use x=\"95.410156\" xlink:href=\"#DejaVuSans-30\"/>\r\n       <use x=\"159.033203\" xlink:href=\"#DejaVuSans-30\"/>\r\n      </g>\r\n     </g>\r\n    </g>\r\n    <g id=\"ytick_6\">\r\n     <g id=\"line2d_11\">\r\n      <g>\r\n       <use style=\"stroke:#000000;stroke-width:0.8;\" x=\"44.845313\" xlink:href=\"#m219e89d03b\" y=\"94.112275\"/>\r\n      </g>\r\n     </g>\r\n     <g id=\"text_11\">\r\n      <!-- 0.25 -->\r\n      <g transform=\"translate(15.579688 97.911494)scale(0.1 -0.1)\">\r\n       <use xlink:href=\"#DejaVuSans-30\"/>\r\n       <use x=\"63.623047\" xlink:href=\"#DejaVuSans-2e\"/>\r\n       <use x=\"95.410156\" xlink:href=\"#DejaVuSans-32\"/>\r\n       <use x=\"159.033203\" xlink:href=\"#DejaVuSans-35\"/>\r\n      </g>\r\n     </g>\r\n    </g>\r\n    <g id=\"ytick_7\">\r\n     <g id=\"line2d_12\">\r\n      <g>\r\n       <use style=\"stroke:#000000;stroke-width:0.8;\" x=\"44.845313\" xlink:href=\"#m219e89d03b\" y=\"68.3963\"/>\r\n      </g>\r\n     </g>\r\n     <g id=\"text_12\">\r\n      <!-- 0.50 -->\r\n      <g transform=\"translate(15.579688 72.195518)scale(0.1 -0.1)\">\r\n       <use xlink:href=\"#DejaVuSans-30\"/>\r\n       <use x=\"63.623047\" xlink:href=\"#DejaVuSans-2e\"/>\r\n       <use x=\"95.410156\" xlink:href=\"#DejaVuSans-35\"/>\r\n       <use x=\"159.033203\" xlink:href=\"#DejaVuSans-30\"/>\r\n      </g>\r\n     </g>\r\n    </g>\r\n    <g id=\"ytick_8\">\r\n     <g id=\"line2d_13\">\r\n      <g>\r\n       <use style=\"stroke:#000000;stroke-width:0.8;\" x=\"44.845313\" xlink:href=\"#m219e89d03b\" y=\"42.680324\"/>\r\n      </g>\r\n     </g>\r\n     <g id=\"text_13\">\r\n      <!-- 0.75 -->\r\n      <g transform=\"translate(15.579688 46.479543)scale(0.1 -0.1)\">\r\n       <use xlink:href=\"#DejaVuSans-30\"/>\r\n       <use x=\"63.623047\" xlink:href=\"#DejaVuSans-2e\"/>\r\n       <use x=\"95.410156\" xlink:href=\"#DejaVuSans-37\"/>\r\n       <use x=\"159.033203\" xlink:href=\"#DejaVuSans-35\"/>\r\n      </g>\r\n     </g>\r\n    </g>\r\n    <g id=\"ytick_9\">\r\n     <g id=\"line2d_14\">\r\n      <g>\r\n       <use style=\"stroke:#000000;stroke-width:0.8;\" x=\"44.845313\" xlink:href=\"#m219e89d03b\" y=\"16.964348\"/>\r\n      </g>\r\n     </g>\r\n     <g id=\"text_14\">\r\n      <!-- 1.00 -->\r\n      <g transform=\"translate(15.579688 20.763567)scale(0.1 -0.1)\">\r\n       <use xlink:href=\"#DejaVuSans-31\"/>\r\n       <use x=\"63.623047\" xlink:href=\"#DejaVuSans-2e\"/>\r\n       <use x=\"95.410156\" xlink:href=\"#DejaVuSans-30\"/>\r\n       <use x=\"159.033203\" xlink:href=\"#DejaVuSans-30\"/>\r\n      </g>\r\n     </g>\r\n    </g>\r\n   </g>\r\n   <g id=\"line2d_15\">\r\n    <path clip-path=\"url(#pca3a33940c)\" d=\"M 60.063494 119.828251 \r\nL 196.781771 119.825112 \r\nL 196.795574 120.336794 \r\nL 196.81628 119.329125 \r\nL 196.885298 119.90359 \r\nL 196.947415 119.492361 \r\nL 196.926709 120.339933 \r\nL 196.995727 119.683849 \r\nL 197.050942 120.324238 \r\nL 197.071647 119.263202 \r\nL 197.106157 119.768607 \r\nL 197.147568 119.552005 \r\nL 197.182077 120.430969 \r\nL 197.19588 118.585144 \r\nL 197.292506 120.5377 \r\nL 197.299408 120.569092 \r\nL 197.30631 120.452943 \r\nL 197.320113 118.274368 \r\nL 197.361524 120.729189 \r\nL 197.416739 120.324238 \r\nL 197.423641 120.478056 \r\nL 197.437444 118.315177 \r\nL 197.444346 118.167637 \r\nL 197.471953 119.944399 \r\nL 197.485757 121.115305 \r\nL 197.561677 117.593171 \r\nL 197.575481 119.520613 \r\nL 197.630695 118.67618 \r\nL 197.603088 121.168671 \r\nL 197.644499 120.908121 \r\nL 197.651401 121.181227 \r\nL 197.672106 118.359125 \r\nL 197.679008 116.692233 \r\nL 197.720419 122.345855 \r\nL 197.775634 120.154723 \r\nL 197.782536 120.173558 \r\nL 197.796339 116.485048 \r\nL 197.83775 123.092974 \r\nL 197.892965 120.142166 \r\nL 197.955081 123.472812 \r\nL 197.91367 116.10521 \r\nL 197.968885 120.553396 \r\nL 198.031001 116.59178 \r\nL 198.06551 124.138313 \r\nL 198.134529 116.40343 \r\nL 198.169038 122.022522 \r\nL 198.182841 125.378281 \r\nL 198.238056 115.471101 \r\nL 198.279467 122.075887 \r\nL 198.32778 114.033367 \r\nL 198.341583 120.647571 \r\nL 198.431307 130.645786 \r\nL 198.4037 111.63819 \r\nL 198.452013 123.118087 \r\nL 198.55554 99.514765 \r\nL 198.507227 134.977823 \r\nL 198.562442 109.92421 \r\nL 198.645264 142.433321 \r\nL 198.624558 93.471887 \r\nL 198.672871 119.818833 \r\nL 198.679773 119.435856 \r\nL 198.776399 82.600986 \r\nL 198.728086 139.482514 \r\nL 198.790202 118.41563 \r\nL 198.886828 141.585749 \r\nL 198.852319 81.590177 \r\nL 198.907533 129.408958 \r\nL 198.914435 130.140382 \r\nL 198.928239 75.183157 \r\nL 198.962748 148.350633 \r\nL 199.024864 128.809379 \r\nL 199.107686 161.557067 \r\nL 199.080079 64.431544 \r\nL 199.135294 136.801674 \r\nL 199.231919 65.784521 \r\nL 199.183606 159.554285 \r\nL 199.245723 112.900131 \r\nL 199.328545 164.146872 \r\nL 199.307839 59.779313 \r\nL 199.356152 143.710958 \r\nL 199.383759 57.955463 \r\nL 199.404465 150.811732 \r\nL 199.466581 121.463752 \r\nL 199.480385 149.524678 \r\nL 199.514894 89.81163 \r\nL 199.57701 137.928631 \r\nL 199.583912 138.857821 \r\nL 199.68744 73.820763 \r\nL 199.65293 150.683027 \r\nL 199.694341 105.636121 \r\nL 199.708145 168.639006 \r\nL 199.749556 82.563316 \r\nL 199.804771 102.233275 \r\nL 199.873789 81.483446 \r\nL 199.846182 143.911865 \r\nL 199.887593 124.276436 \r\nL 199.894494 137.121868 \r\nL 199.942807 95.553148 \r\nL 199.998022 134.623098 \r\nL 200.046335 89.833604 \r\nL 200.060138 143.899308 \r\nL 200.122255 101.382563 \r\nL 200.191273 80.466359 \r\nL 200.239586 162.797034 \r\nL 200.343113 57.842453 \r\nL 200.363819 121.043105 \r\nL 200.432837 179.334114 \r\nL 200.412131 57.591321 \r\nL 200.467346 110.225569 \r\nL 200.501855 156.157717 \r\nL 200.529462 87.124511 \r\nL 200.577775 126.486403 \r\nL 200.667499 66.189472 \r\nL 200.646793 160.696938 \r\nL 200.695106 107.158612 \r\nL 200.70891 174.95499 \r\nL 200.764125 73.820763 \r\nL 200.805535 120.170419 \r\nL 200.853848 162.451727 \r\nL 200.833143 74.599274 \r\nL 200.929768 155.696261 \r\nL 200.950474 70.59371 \r\nL 200.964277 162.969688 \r\nL 201.054001 72.23235 \r\nL 201.143725 190.03864 \r\nL 201.171332 94.357129 \r\nL 201.178234 46.616827 \r\nL 201.226547 168.984313 \r\nL 201.267958 142.706428 \r\nL 201.27486 161.400109 \r\nL 201.35078 103.827967 \r\nL 201.357682 112.156151 \r\nL 201.399093 71.962382 \r\nL 201.385289 170.44716 \r\nL 201.454307 124.207375 \r\nL 201.557835 161.057941 \r\nL 201.509522 84.158008 \r\nL 201.564736 149.443059 \r\nL 201.585442 57.920932 \r\nL 201.599245 160.3171 \r\nL 201.675166 115.084984 \r\nL 201.723478 150.717557 \r\nL 201.744184 64.679537 \r\nL 201.792497 136.886431 \r\nL 201.88222 51.325563 \r\nL 201.868417 175.981494 \r\nL 201.896024 132.507307 \r\nL 201.916729 161.299656 \r\nL 201.937435 50.99909 \r\nL 201.99265 125.280967 \r\nL 202.040962 63.853939 \r\nL 202.054766 153.630695 \r\nL 202.089275 138.311608 \r\nL 202.130686 179.239939 \r\nL 202.109981 51.520191 \r\nL 202.178999 86.132538 \r\nL 202.206606 189.922491 \r\nL 202.227312 52.031873 \r\nL 202.289428 116.871165 \r\nL 202.29633 64.657563 \r\nL 202.379152 147.886038 \r\nL 202.399857 72.508595 \r\nL 202.406759 71.394195 \r\nL 202.427465 172.760719 \r\nL 202.52409 100.899133 \r\nL 202.537894 88.311113 \r\nL 202.544796 110.683886 \r\nL 202.558599 190.145371 \r\nL 202.606912 63.951253 \r\nL 202.648323 161.528815 \r\nL 202.662127 52.951646 \r\nL 202.758752 81.863284 \r\nL 202.779458 158.019237 \r\nL 202.827771 78.322315 \r\nL 202.876083 128.376176 \r\nL 202.931298 64.795686 \r\nL 202.917494 178.291914 \r\nL 202.979611 147.54073 \r\nL 202.993414 163.305578 \r\nL 203.000316 136.575654 \r\nL 203.01412 43.28932 \r\nL 203.027924 163.886322 \r\nL 203.117647 50.0699 \r\nL 203.214273 207.401318 \r\nL 203.186666 46.90563 \r\nL 203.221175 109.927349 \r\nL 203.228076 17.083636 \r\nL 203.276389 199.38705 \r\nL 203.324702 180.683952 \r\nL 203.338506 48.337085 \r\nL 203.352309 193.425791 \r\nL 203.448935 84.534707 \r\nL 203.524855 65.558501 \r\nL 203.566266 170.547613 \r\nL 203.58007 65.52711 \r\nL 203.683597 88.285999 \r\nL 203.773321 161.459753 \r\nL 203.759517 79.860502 \r\nL 203.800928 129.167243 \r\nL 203.869946 56.658991 \r\nL 203.88375 200.140448 \r\nL 203.904455 94.423052 \r\nL 203.994179 214.756364 \r\nL 203.980376 49.438929 \r\nL 204.021787 142.590279 \r\nL 204.03559 63.951253 \r\nL 204.070099 167.869912 \r\nL 204.125314 134.334296 \r\nL 204.139118 174.889068 \r\nL 204.152921 48.80168 \r\nL 204.221939 109.352883 \r\nL 204.29786 79.1228 \r\nL 204.284056 164.015027 \r\nL 204.325467 111.606798 \r\nL 204.359976 156.546972 \r\nL 204.346172 70.744389 \r\nL 204.435896 144.690376 \r\nL 204.518718 63.492936 \r\nL 204.498013 156.895419 \r\nL 204.546325 131.009929 \r\nL 204.573933 94.112275 \r\nL 204.656755 145.600731 \r\nL 204.691264 96.300268 \r\nL 204.774086 116.773851 \r\nL 204.815497 143.795716 \r\nL 204.8293 94.008683 \r\nL 204.884515 114.614111 \r\nL 204.891417 103.984924 \r\nL 204.925926 142.467852 \r\nL 204.988042 124.518152 \r\nL 205.029453 144.586783 \r\nL 205.015649 96.199815 \r\nL 205.036355 136.035719 \r\nL 205.043257 86.091729 \r\nL 205.139882 156.019594 \r\nL 205.146784 131.904588 \r\nL 205.229606 94.325738 \r\nL 205.201999 143.205554 \r\nL 205.250312 122.430612 \r\nL 205.326232 139.228242 \r\nL 205.298624 99.012499 \r\nL 205.353839 110.875374 \r\nL 205.388348 143.968369 \r\nL 205.402152 98.777063 \r\nL 205.409054 87.494932 \r\nL 205.429759 140.891995 \r\nL 205.491876 124.480482 \r\nL 205.505679 135.944684 \r\nL 205.526385 95.606514 \r\nL 205.567796 120.258315 \r\nL 205.636814 98.557322 \r\nL 205.616108 141.17138 \r\nL 205.678225 114.071036 \r\nL 205.761047 128.555108 \r\nL 205.747243 109.69819 \r\nL 205.788654 122.229706 \r\nL 205.857672 102.69787 \r\nL 205.878378 135.43614 \r\nL 205.912887 107.381492 \r\nL 205.954298 133.172808 \r\nL 205.968102 95.185867 \r\nL 206.023316 120.456082 \r\nL 206.071629 103.837384 \r\nL 206.057825 137.934909 \r\nL 206.126844 129.132713 \r\nL 206.133745 133.901092 \r\nL 206.182058 111.066863 \r\nL 206.209665 121.623849 \r\nL 206.216567 105.783661 \r\nL 206.237273 129.729152 \r\nL 206.320095 117.916504 \r\nL 206.347702 129.832745 \r\nL 206.361506 109.949323 \r\nL 206.444328 129.543942 \r\nL 206.540953 132.962484 \r\nL 206.56856 103.59253 \r\nL 206.651382 134.098859 \r\nL 206.672088 102.525216 \r\nL 206.692793 128.718344 \r\nL 206.761812 112.319387 \r\nL 206.803222 126.847406 \r\nL 206.899848 112.997445 \r\nL 206.968866 118.403073 \r\nL 206.98267 132.023876 \r\nL 207.003375 110.413918 \r\nL 207.093099 130.159217 \r\nL 207.113805 102.280362 \r\nL 207.196627 131.07899 \r\nL 207.224234 113.534241 \r\nL 207.244939 125.384559 \r\nL 207.334663 123.124366 \r\nL 207.36227 131.540446 \r\nL 207.458896 111.135924 \r\nL 207.562423 105.275118 \r\nL 207.583129 129.892389 \r\nL 207.590031 129.521968 \r\nL 207.610736 111.52518 \r\nL 207.714264 111.93641 \r\nL 207.803987 126.599413 \r\nL 207.838496 120.748024 \r\nL 207.8523 120.459221 \r\nL 207.859202 121.783946 \r\nL 207.907515 129.44035 \r\nL 207.886809 109.173951 \r\nL 207.955827 117.200776 \r\nL 207.962729 113.961166 \r\nL 207.976533 126.822293 \r\nL 208.052453 122.10414 \r\nL 208.128373 125.481873 \r\nL 208.100766 110.881653 \r\nL 208.149079 118.534918 \r\nL 208.162882 109.497284 \r\nL 208.183588 129.343036 \r\nL 208.245704 124.238767 \r\nL 208.252606 125.651387 \r\nL 208.26641 114.585858 \r\nL 208.307821 116.817799 \r\nL 208.314722 111.399614 \r\nL 208.328526 125.513264 \r\nL 208.404446 122.418055 \r\nL 208.480366 127.230383 \r\nL 208.459661 112.203238 \r\nL 208.49417 119.071714 \r\nL 208.535581 116.717346 \r\nL 208.542483 124.70964 \r\nL 208.549385 130.269087 \r\nL 208.563188 111.565989 \r\nL 208.639108 118.070323 \r\nL 208.64601 113.364726 \r\nL 208.659814 124.270158 \r\nL 208.742636 121.061939 \r\nL 208.853065 115.21055 \r\nL 208.832359 123.510482 \r\nL 208.859967 117.156828 \r\nL 208.87377 123.730223 \r\nL 208.963494 115.471101 \r\nL 208.977298 122.970547 \r\nL 208.998003 120.757441 \r\nL 209.011807 113.578189 \r\nL 209.025611 123.243654 \r\nL 209.101531 118.151941 \r\nL 209.191254 122.910903 \r\nL 209.156745 116.224498 \r\nL 209.205058 117.546083 \r\nL 209.21196 117.15055 \r\nL 209.239567 120.270872 \r\nL 209.246469 123.551291 \r\nL 209.28788 116.10521 \r\nL 209.343095 117.225889 \r\nL 209.349996 116.977896 \r\nL 209.356898 119.275759 \r\nL 209.425916 123.03333 \r\nL 209.412113 115.744207 \r\nL 209.453524 115.907443 \r\nL 209.460426 114.610971 \r\nL 209.474229 122.901486 \r\nL 209.529444 116.676537 \r\nL 209.619168 123.626631 \r\nL 209.632971 114.984531 \r\nL 209.646775 122.694301 \r\nL 209.7434 114.388091 \r\nL 209.722695 124.646857 \r\nL 209.750302 120.154723 \r\nL 209.757204 125.918216 \r\nL 209.77791 116.155437 \r\nL 209.860732 120.120192 \r\nL 209.895241 122.392942 \r\nL 209.881437 116.858608 \r\nL 209.978063 122.273654 \r\nL 210.088492 118.101714 \r\nL 210.040179 122.678605 \r\nL 210.095394 118.754659 \r\nL 210.116099 122.769641 \r\nL 210.129903 117.55864 \r\nL 210.205823 119.781163 \r\nL 210.274841 116.858608 \r\nL 210.254136 123.607796 \r\nL 210.295547 119.90673 \r\nL 210.378368 122.622101 \r\nL 210.350761 116.761294 \r\nL 210.392172 118.735824 \r\nL 210.454289 122.606405 \r\nL 210.502601 117.188219 \r\nL 210.523307 122.942295 \r\nL 210.619932 118.669902 \r\nL 210.702754 117.144271 \r\nL 210.688951 121.598735 \r\nL 210.709656 118.877086 \r\nL 210.79938 122.414916 \r\nL 210.813184 117.050097 \r\nL 210.909809 123.953103 \r\nL 210.923613 117.816051 \r\nL 210.930515 115.678285 \r\nL 210.978827 121.733719 \r\nL 211.013337 119.589675 \r\nL 211.123766 122.433751 \r\nL 211.109962 117.649676 \r\nL 211.130668 122.091583 \r\nL 211.151373 117.621423 \r\nL 211.247999 120.591066 \r\nL 211.351526 118.41563 \r\nL 211.337722 121.473169 \r\nL 211.36533 119.143914 \r\nL 211.379133 121.956599 \r\nL 211.392937 118.983817 \r\nL 211.468857 119.373073 \r\nL 211.524072 121.61757 \r\nL 211.586188 116.930809 \r\nL 211.599992 121.815337 \r\nL 211.710421 121.28482 \r\nL 211.731126 117.809773 \r\nL 211.751832 121.642684 \r\nL 211.813948 120.647571 \r\nL 211.82085 122.254819 \r\nL 211.848457 118.167637 \r\nL 211.924378 120.678962 \r\nL 211.931279 118.921034 \r\nL 211.993396 120.914399 \r\nL 212.034807 119.916147 \r\nL 212.04861 120.380742 \r\nL 212.076218 119.071714 \r\nL 212.124531 117.960452 \r\nL 212.103825 122.483978 \r\nL 212.165941 120.644432 \r\nL 212.214254 121.576761 \r\nL 212.193549 117.866277 \r\nL 212.262567 120.327377 \r\nL 212.303978 117.197637 \r\nL 212.290174 122.019382 \r\nL 212.379898 118.399934 \r\nL 212.469622 121.463752 \r\nL 212.497229 119.241228 \r\nL 212.566247 117.944756 \r\nL 212.545542 121.385273 \r\nL 212.586953 120.233202 \r\nL 212.593855 120.992878 \r\nL 212.676677 118.688737 \r\nL 212.731891 118.136245 \r\nL 212.711186 121.002295 \r\nL 212.752597 120.807668 \r\nL 212.794008 118.873947 \r\nL 212.821615 120.904982 \r\nL 212.828517 122.722554 \r\nL 212.849222 117.4833 \r\nL 212.918241 117.96673 \r\nL 212.925142 116.849191 \r\nL 212.945848 121.080774 \r\nL 213.001062 120.044853 \r\nL 213.014866 121.856146 \r\nL 213.035572 117.897669 \r\nL 213.10459 118.242976 \r\nL 213.125295 121.061939 \r\nL 213.228823 120.83592 \r\nL 213.242626 118.833138 \r\nL 213.339252 120.754302 \r\nL 213.456583 118.864529 \r\nL 213.463485 118.930452 \r\nL 213.477288 120.72291 \r\nL 213.573914 119.504917 \r\nL 213.587718 119.661875 \r\nL 213.622227 121.190645 \r\nL 213.649834 118.993235 \r\nL 213.691245 120.123331 \r\nL 213.780969 119.216115 \r\nL 213.794772 120.525144 \r\nL 213.82238 118.911617 \r\nL 213.843085 120.889286 \r\nL 213.8983 120.148445 \r\nL 213.981122 121.407247 \r\nL 213.994925 118.437604 \r\nL 214.008729 120.085662 \r\nL 214.091551 121.13414 \r\nL 214.070846 119.143914 \r\nL 214.112257 119.329125 \r\nL 214.181275 118.895921 \r\nL 214.167471 120.446665 \r\nL 214.188177 119.052879 \r\nL 214.284802 120.656988 \r\nL 214.298606 119.021487 \r\nL 214.346919 121.043105 \r\nL 214.367624 118.939869 \r\nL 214.422839 119.859642 \r\nL 214.436642 118.691876 \r\nL 214.457348 120.597344 \r\nL 214.526366 120.506309 \r\nL 214.533268 120.619318 \r\nL 214.54017 119.435856 \r\nL 214.547072 118.619675 \r\nL 214.567777 120.478056 \r\nL 214.636795 120.217506 \r\nL 214.698912 120.587927 \r\nL 214.678206 119.27262 \r\nL 214.733421 119.715241 \r\nL 214.823145 118.933591 \r\nL 214.76793 120.672684 \r\nL 214.830046 119.558283 \r\nL 214.84385 120.748024 \r\nL 214.933574 119.118801 \r\nL 214.954279 120.813946 \r\nL 215.037101 118.842555 \r\nL 215.133727 121.049383 \r\nL 215.14753 119.027766 \r\nL 215.154432 118.698154 \r\nL 215.168236 120.791972 \r\nL 215.230352 120.20181 \r\nL 215.285567 120.374464 \r\nL 215.25796 119.187863 \r\nL 215.313174 119.617927 \r\nL 215.320076 119.589675 \r\nL 215.340782 119.919286 \r\nL 215.347683 120.503169 \r\nL 215.368389 119.316568 \r\nL 215.444309 119.699545 \r\nL 215.520229 120.233202 \r\nL 215.506425 119.451552 \r\nL 215.527131 119.627345 \r\nL 215.582345 119.300872 \r\nL 215.56164 120.396438 \r\nL 215.616855 119.765468 \r\nL 215.623756 120.468639 \r\nL 215.720382 119.112523 \r\nL 215.851517 120.490613 \r\nL 215.97575 119.442134 \r\nL 216.065473 120.110775 \r\nL 216.079277 119.633623 \r\nL 216.086179 119.351099 \r\nL 216.106884 120.223784 \r\nL 216.182804 119.837668 \r\nL 216.320841 119.821972 \r\nL 216.500288 119.837668 \r\nL 216.665932 119.821972 \r\nL 216.803969 119.828251 \r\nL 217.059336 119.83139 \r\nL 217.197373 119.828251 \r\nL 217.356115 119.83139 \r\nL 217.625286 119.828251 \r\nL 364.427131 119.828251 \r\nL 364.427131 119.828251 \r\n\" style=\"fill:none;stroke:#1f77b4;stroke-linecap:square;stroke-width:1.5;\"/>\r\n   </g>\r\n   <g id=\"patch_3\">\r\n    <path d=\"M 44.845313 224.64 \r\nL 44.845313 7.2 \r\n\" style=\"fill:none;stroke:#000000;stroke-linecap:square;stroke-linejoin:miter;stroke-width:0.8;\"/>\r\n   </g>\r\n   <g id=\"patch_4\">\r\n    <path d=\"M 379.645313 224.64 \r\nL 379.645313 7.2 \r\n\" style=\"fill:none;stroke:#000000;stroke-linecap:square;stroke-linejoin:miter;stroke-width:0.8;\"/>\r\n   </g>\r\n   <g id=\"patch_5\">\r\n    <path d=\"M 44.845313 224.64 \r\nL 379.645313 224.64 \r\n\" style=\"fill:none;stroke:#000000;stroke-linecap:square;stroke-linejoin:miter;stroke-width:0.8;\"/>\r\n   </g>\r\n   <g id=\"patch_6\">\r\n    <path d=\"M 44.845313 7.2 \r\nL 379.645313 7.2 \r\n\" style=\"fill:none;stroke:#000000;stroke-linecap:square;stroke-linejoin:miter;stroke-width:0.8;\"/>\r\n   </g>\r\n  </g>\r\n </g>\r\n <defs>\r\n  <clipPath id=\"pca3a33940c\">\r\n   <rect height=\"217.44\" width=\"334.8\" x=\"44.845313\" y=\"7.2\"/>\r\n  </clipPath>\r\n </defs>\r\n</svg>\r\n",
      "image/png": "[encoded data removed]"
     },
     "metadata": {
      "needs_background": "light"
     }
    }
   ],
   "source": [
    "plt.plot(x[0, ::5])"
   ]
  },
  {
   "cell_type": "code",
   "execution_count": 16,
   "metadata": {},
   "outputs": [],
   "source": [
    "h = torchaudio.transforms.MelSpectrogram(sample_rate=sr)(x)"
   ]
  },
  {
   "cell_type": "code",
   "execution_count": 17,
   "metadata": {},
   "outputs": [
    {
     "output_type": "execute_result",
     "data": {
      "text/plain": [
       "torch.Size([1, 128, 1103])"
      ]
     },
     "metadata": {},
     "execution_count": 17
    }
   ],
   "source": [
    "h.shape"
   ]
  },
  {
   "cell_type": "code",
   "execution_count": 23,
   "metadata": {},
   "outputs": [],
   "source": [
    "h = torchaudio.transforms.AmplitudeToDB()(h)"
   ]
  },
  {
   "cell_type": "code",
   "execution_count": 24,
   "metadata": {},
   "outputs": [
    {
     "output_type": "execute_result",
     "data": {
      "text/plain": [
       "<matplotlib.image.AxesImage at 0x295fb1314f0>"
      ]
     },
     "metadata": {},
     "execution_count": 24
    },
    {
     "output_type": "display_data",
     "data": {
      "text/plain": "<Figure size 432x288 with 1 Axes>",
      "image/svg+xml": "<?xml version=\"1.0\" encoding=\"utf-8\" standalone=\"no\"?>\r\n<!DOCTYPE svg PUBLIC \"-//W3C//DTD SVG 1.1//EN\"\r\n  \"http://www.w3.org/Graphics/SVG/1.1/DTD/svg11.dtd\">\r\n<svg height=\"73.57816pt\" version=\"1.1\" viewBox=\"0 0 375.2875 73.57816\" width=\"375.2875pt\" xmlns=\"http://www.w3.org/2000/svg\" xmlns:xlink=\"http://www.w3.org/1999/xlink\">\r\n <metadata>\r\n  <rdf:RDF xmlns:cc=\"http://creativecommons.org/ns#\" xmlns:dc=\"http://purl.org/dc/elements/1.1/\" xmlns:rdf=\"http://www.w3.org/1999/02/22-rdf-syntax-ns#\">\r\n   <cc:Work>\r\n    <dc:type rdf:resource=\"http://purl.org/dc/dcmitype/StillImage\"/>\r\n    <dc:date>2021-06-07T17:55:02.312039</dc:date>\r\n    <dc:format>image/svg+xml</dc:format>\r\n    <dc:creator>\r\n     <cc:Agent>\r\n      <dc:title>Matplotlib v3.4.2, https://matplotlib.org/</dc:title>\r\n     </cc:Agent>\r\n    </dc:creator>\r\n   </cc:Work>\r\n  </rdf:RDF>\r\n </metadata>\r\n <defs>\r\n  <style type=\"text/css\">*{stroke-linecap:butt;stroke-linejoin:round;}</style>\r\n </defs>\r\n <g id=\"figure_1\">\r\n  <g id=\"patch_1\">\r\n   <path d=\"M 0 73.57816 \r\nL 375.2875 73.57816 \r\nL 375.2875 0 \r\nL 0 0 \r\nz\r\n\" style=\"fill:none;\"/>\r\n  </g>\r\n  <g id=\"axes_1\">\r\n   <g id=\"patch_2\">\r\n    <path d=\"M 33.2875 49.700035 \r\nL 368.0875 49.700035 \r\nL 368.0875 10.847451 \r\nL 33.2875 10.847451 \r\nz\r\n\" style=\"fill:#ffffff;\"/>\r\n   </g>\r\n   <g clip-path=\"url(#p865b9d84b3)\">\r\n    <image height=\"39\" id=\"imagece22db4c72\" transform=\"scale(1 -1)translate(0 -39)\" width=\"335\" x=\"33.2875\" xlink:href=\"data:image/png;base64,\r\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\" y=\"-10.700035\"/>\r\n   </g>\r\n   <g id=\"matplotlib.axis_1\">\r\n    <g id=\"xtick_1\">\r\n     <g id=\"line2d_1\">\r\n      <defs>\r\n       <path d=\"M 0 0 \r\nL 0 3.5 \r\n\" id=\"m97a2672842\" style=\"stroke:#000000;stroke-width:0.8;\"/>\r\n      </defs>\r\n      <g>\r\n       <use style=\"stroke:#000000;stroke-width:0.8;\" x=\"33.439268\" xlink:href=\"#m97a2672842\" y=\"49.700035\"/>\r\n      </g>\r\n     </g>\r\n     <g id=\"text_1\">\r\n      <!-- 0 -->\r\n      <g transform=\"translate(30.258018 64.298472)scale(0.1 -0.1)\">\r\n       <defs>\r\n        <path d=\"M 2034 4250 \r\nQ 1547 4250 1301 3770 \r\nQ 1056 3291 1056 2328 \r\nQ 1056 1369 1301 889 \r\nQ 1547 409 2034 409 \r\nQ 2525 409 2770 889 \r\nQ 3016 1369 3016 2328 \r\nQ 3016 3291 2770 3770 \r\nQ 2525 4250 2034 4250 \r\nz\r\nM 2034 4750 \r\nQ 2819 4750 3233 4129 \r\nQ 3647 3509 3647 2328 \r\nQ 3647 1150 3233 529 \r\nQ 2819 -91 2034 -91 \r\nQ 1250 -91 836 529 \r\nQ 422 1150 422 2328 \r\nQ 422 3509 836 4129 \r\nQ 1250 4750 2034 4750 \r\nz\r\n\" id=\"DejaVuSans-30\" transform=\"scale(0.015625)\"/>\r\n       </defs>\r\n       <use xlink:href=\"#DejaVuSans-30\"/>\r\n      </g>\r\n     </g>\r\n    </g>\r\n    <g id=\"xtick_2\">\r\n     <g id=\"line2d_2\">\r\n      <g>\r\n       <use style=\"stroke:#000000;stroke-width:0.8;\" x=\"94.14643\" xlink:href=\"#m97a2672842\" y=\"49.700035\"/>\r\n      </g>\r\n     </g>\r\n     <g id=\"text_2\">\r\n      <!-- 200 -->\r\n      <g transform=\"translate(84.60268 64.298472)scale(0.1 -0.1)\">\r\n       <defs>\r\n        <path d=\"M 1228 531 \r\nL 3431 531 \r\nL 3431 0 \r\nL 469 0 \r\nL 469 531 \r\nQ 828 903 1448 1529 \r\nQ 2069 2156 2228 2338 \r\nQ 2531 2678 2651 2914 \r\nQ 2772 3150 2772 3378 \r\nQ 2772 3750 2511 3984 \r\nQ 2250 4219 1831 4219 \r\nQ 1534 4219 1204 4116 \r\nQ 875 4013 500 3803 \r\nL 500 4441 \r\nQ 881 4594 1212 4672 \r\nQ 1544 4750 1819 4750 \r\nQ 2544 4750 2975 4387 \r\nQ 3406 4025 3406 3419 \r\nQ 3406 3131 3298 2873 \r\nQ 3191 2616 2906 2266 \r\nQ 2828 2175 2409 1742 \r\nQ 1991 1309 1228 531 \r\nz\r\n\" id=\"DejaVuSans-32\" transform=\"scale(0.015625)\"/>\r\n       </defs>\r\n       <use xlink:href=\"#DejaVuSans-32\"/>\r\n       <use x=\"63.623047\" xlink:href=\"#DejaVuSans-30\"/>\r\n       <use x=\"127.246094\" xlink:href=\"#DejaVuSans-30\"/>\r\n      </g>\r\n     </g>\r\n    </g>\r\n    <g id=\"xtick_3\">\r\n     <g id=\"line2d_3\">\r\n      <g>\r\n       <use style=\"stroke:#000000;stroke-width:0.8;\" x=\"154.853592\" xlink:href=\"#m97a2672842\" y=\"49.700035\"/>\r\n      </g>\r\n     </g>\r\n     <g id=\"text_3\">\r\n      <!-- 400 -->\r\n      <g transform=\"translate(145.309842 64.298472)scale(0.1 -0.1)\">\r\n       <defs>\r\n        <path d=\"M 2419 4116 \r\nL 825 1625 \r\nL 2419 1625 \r\nL 2419 4116 \r\nz\r\nM 2253 4666 \r\nL 3047 4666 \r\nL 3047 1625 \r\nL 3713 1625 \r\nL 3713 1100 \r\nL 3047 1100 \r\nL 3047 0 \r\nL 2419 0 \r\nL 2419 1100 \r\nL 313 1100 \r\nL 313 1709 \r\nL 2253 4666 \r\nz\r\n\" id=\"DejaVuSans-34\" transform=\"scale(0.015625)\"/>\r\n       </defs>\r\n       <use xlink:href=\"#DejaVuSans-34\"/>\r\n       <use x=\"63.623047\" xlink:href=\"#DejaVuSans-30\"/>\r\n       <use x=\"127.246094\" xlink:href=\"#DejaVuSans-30\"/>\r\n      </g>\r\n     </g>\r\n    </g>\r\n    <g id=\"xtick_4\">\r\n     <g id=\"line2d_4\">\r\n      <g>\r\n       <use style=\"stroke:#000000;stroke-width:0.8;\" x=\"215.560755\" xlink:href=\"#m97a2672842\" y=\"49.700035\"/>\r\n      </g>\r\n     </g>\r\n     <g id=\"text_4\">\r\n      <!-- 600 -->\r\n      <g transform=\"translate(206.017005 64.298472)scale(0.1 -0.1)\">\r\n       <defs>\r\n        <path d=\"M 2113 2584 \r\nQ 1688 2584 1439 2293 \r\nQ 1191 2003 1191 1497 \r\nQ 1191 994 1439 701 \r\nQ 1688 409 2113 409 \r\nQ 2538 409 2786 701 \r\nQ 3034 994 3034 1497 \r\nQ 3034 2003 2786 2293 \r\nQ 2538 2584 2113 2584 \r\nz\r\nM 3366 4563 \r\nL 3366 3988 \r\nQ 3128 4100 2886 4159 \r\nQ 2644 4219 2406 4219 \r\nQ 1781 4219 1451 3797 \r\nQ 1122 3375 1075 2522 \r\nQ 1259 2794 1537 2939 \r\nQ 1816 3084 2150 3084 \r\nQ 2853 3084 3261 2657 \r\nQ 3669 2231 3669 1497 \r\nQ 3669 778 3244 343 \r\nQ 2819 -91 2113 -91 \r\nQ 1303 -91 875 529 \r\nQ 447 1150 447 2328 \r\nQ 447 3434 972 4092 \r\nQ 1497 4750 2381 4750 \r\nQ 2619 4750 2861 4703 \r\nQ 3103 4656 3366 4563 \r\nz\r\n\" id=\"DejaVuSans-36\" transform=\"scale(0.015625)\"/>\r\n       </defs>\r\n       <use xlink:href=\"#DejaVuSans-36\"/>\r\n       <use x=\"63.623047\" xlink:href=\"#DejaVuSans-30\"/>\r\n       <use x=\"127.246094\" xlink:href=\"#DejaVuSans-30\"/>\r\n      </g>\r\n     </g>\r\n    </g>\r\n    <g id=\"xtick_5\">\r\n     <g id=\"line2d_5\">\r\n      <g>\r\n       <use style=\"stroke:#000000;stroke-width:0.8;\" x=\"276.267917\" xlink:href=\"#m97a2672842\" y=\"49.700035\"/>\r\n      </g>\r\n     </g>\r\n     <g id=\"text_5\">\r\n      <!-- 800 -->\r\n      <g transform=\"translate(266.724167 64.298472)scale(0.1 -0.1)\">\r\n       <defs>\r\n        <path d=\"M 2034 2216 \r\nQ 1584 2216 1326 1975 \r\nQ 1069 1734 1069 1313 \r\nQ 1069 891 1326 650 \r\nQ 1584 409 2034 409 \r\nQ 2484 409 2743 651 \r\nQ 3003 894 3003 1313 \r\nQ 3003 1734 2745 1975 \r\nQ 2488 2216 2034 2216 \r\nz\r\nM 1403 2484 \r\nQ 997 2584 770 2862 \r\nQ 544 3141 544 3541 \r\nQ 544 4100 942 4425 \r\nQ 1341 4750 2034 4750 \r\nQ 2731 4750 3128 4425 \r\nQ 3525 4100 3525 3541 \r\nQ 3525 3141 3298 2862 \r\nQ 3072 2584 2669 2484 \r\nQ 3125 2378 3379 2068 \r\nQ 3634 1759 3634 1313 \r\nQ 3634 634 3220 271 \r\nQ 2806 -91 2034 -91 \r\nQ 1263 -91 848 271 \r\nQ 434 634 434 1313 \r\nQ 434 1759 690 2068 \r\nQ 947 2378 1403 2484 \r\nz\r\nM 1172 3481 \r\nQ 1172 3119 1398 2916 \r\nQ 1625 2713 2034 2713 \r\nQ 2441 2713 2670 2916 \r\nQ 2900 3119 2900 3481 \r\nQ 2900 3844 2670 4047 \r\nQ 2441 4250 2034 4250 \r\nQ 1625 4250 1398 4047 \r\nQ 1172 3844 1172 3481 \r\nz\r\n\" id=\"DejaVuSans-38\" transform=\"scale(0.015625)\"/>\r\n       </defs>\r\n       <use xlink:href=\"#DejaVuSans-38\"/>\r\n       <use x=\"63.623047\" xlink:href=\"#DejaVuSans-30\"/>\r\n       <use x=\"127.246094\" xlink:href=\"#DejaVuSans-30\"/>\r\n      </g>\r\n     </g>\r\n    </g>\r\n    <g id=\"xtick_6\">\r\n     <g id=\"line2d_6\">\r\n      <g>\r\n       <use style=\"stroke:#000000;stroke-width:0.8;\" x=\"336.975079\" xlink:href=\"#m97a2672842\" y=\"49.700035\"/>\r\n      </g>\r\n     </g>\r\n     <g id=\"text_6\">\r\n      <!-- 1000 -->\r\n      <g transform=\"translate(324.250079 64.298472)scale(0.1 -0.1)\">\r\n       <defs>\r\n        <path d=\"M 794 531 \r\nL 1825 531 \r\nL 1825 4091 \r\nL 703 3866 \r\nL 703 4441 \r\nL 1819 4666 \r\nL 2450 4666 \r\nL 2450 531 \r\nL 3481 531 \r\nL 3481 0 \r\nL 794 0 \r\nL 794 531 \r\nz\r\n\" id=\"DejaVuSans-31\" transform=\"scale(0.015625)\"/>\r\n       </defs>\r\n       <use xlink:href=\"#DejaVuSans-31\"/>\r\n       <use x=\"63.623047\" xlink:href=\"#DejaVuSans-30\"/>\r\n       <use x=\"127.246094\" xlink:href=\"#DejaVuSans-30\"/>\r\n       <use x=\"190.869141\" xlink:href=\"#DejaVuSans-30\"/>\r\n      </g>\r\n     </g>\r\n    </g>\r\n   </g>\r\n   <g id=\"matplotlib.axis_2\">\r\n    <g id=\"ytick_1\">\r\n     <g id=\"line2d_7\">\r\n      <defs>\r\n       <path d=\"M 0 0 \r\nL -3.5 0 \r\n\" id=\"m798dd63183\" style=\"stroke:#000000;stroke-width:0.8;\"/>\r\n      </defs>\r\n      <g>\r\n       <use style=\"stroke:#000000;stroke-width:0.8;\" x=\"33.2875\" xlink:href=\"#m798dd63183\" y=\"10.999219\"/>\r\n      </g>\r\n     </g>\r\n     <g id=\"text_7\">\r\n      <!-- 0 -->\r\n      <g transform=\"translate(19.925 14.798437)scale(0.1 -0.1)\">\r\n       <use xlink:href=\"#DejaVuSans-30\"/>\r\n      </g>\r\n     </g>\r\n    </g>\r\n    <g id=\"ytick_2\">\r\n     <g id=\"line2d_8\">\r\n      <g>\r\n       <use style=\"stroke:#000000;stroke-width:0.8;\" x=\"33.2875\" xlink:href=\"#m798dd63183\" y=\"41.3528\"/>\r\n      </g>\r\n     </g>\r\n     <g id=\"text_8\">\r\n      <!-- 100 -->\r\n      <g transform=\"translate(7.2 45.152019)scale(0.1 -0.1)\">\r\n       <use xlink:href=\"#DejaVuSans-31\"/>\r\n       <use x=\"63.623047\" xlink:href=\"#DejaVuSans-30\"/>\r\n       <use x=\"127.246094\" xlink:href=\"#DejaVuSans-30\"/>\r\n      </g>\r\n     </g>\r\n    </g>\r\n   </g>\r\n   <g id=\"patch_3\">\r\n    <path d=\"M 33.2875 49.700035 \r\nL 33.2875 10.847451 \r\n\" style=\"fill:none;stroke:#000000;stroke-linecap:square;stroke-linejoin:miter;stroke-width:0.8;\"/>\r\n   </g>\r\n   <g id=\"patch_4\">\r\n    <path d=\"M 368.0875 49.700035 \r\nL 368.0875 10.847451 \r\n\" style=\"fill:none;stroke:#000000;stroke-linecap:square;stroke-linejoin:miter;stroke-width:0.8;\"/>\r\n   </g>\r\n   <g id=\"patch_5\">\r\n    <path d=\"M 33.2875 49.700035 \r\nL 368.0875 49.700035 \r\n\" style=\"fill:none;stroke:#000000;stroke-linecap:square;stroke-linejoin:miter;stroke-width:0.8;\"/>\r\n   </g>\r\n   <g id=\"patch_6\">\r\n    <path d=\"M 33.2875 10.847451 \r\nL 368.0875 10.847451 \r\n\" style=\"fill:none;stroke:#000000;stroke-linecap:square;stroke-linejoin:miter;stroke-width:0.8;\"/>\r\n   </g>\r\n  </g>\r\n </g>\r\n <defs>\r\n  <clipPath id=\"p865b9d84b3\">\r\n   <rect height=\"38.852584\" width=\"334.8\" x=\"33.2875\" y=\"10.847451\"/>\r\n  </clipPath>\r\n </defs>\r\n</svg>\r\n",
      "image/png": "[encoded data removed]"
     },
     "metadata": {
      "needs_background": "light"
     }
    }
   ],
   "source": [
    "plt.imshow(h[0])"
   ]
  },
  {
   "cell_type": "code",
   "execution_count": 37,
   "metadata": {},
   "outputs": [],
   "source": [
    "class ESC50Dataset(torch.utils.data.Dataset):\n",
    "    def __init__(self, path: Path = Path(\"data\\ESC-50-master\\ESC-50-master\"), \n",
    "                 sample_rate: int = 8000,\n",
    "                 folds = [1]):\n",
    "        # Load CSV & initialize all torchaudio.transforms\n",
    "        # Resample --> MelSpectrogram --> AmplitudeToDB     \n",
    "        self.path = path\n",
    "        self.csv = pd.read_csv(path / Path(\"meta/esc50.csv\"))\n",
    "        self.csv = self.csv[self.csv[\"fold\"].isin(folds)]\n",
    "        self.resample = torchaudio.transforms.Resample(\n",
    "            orig_freq=44100, new_freq=sample_rate\n",
    "        )\n",
    "        self.melspec = torchaudio.transforms.MelSpectrogram(sample_rate=sample_rate)\n",
    "        self.db = torchaudio.transforms.AmplitudeToDB()\n",
    "\n",
    "    def __getitem__(self, index):\n",
    "        # Returns (xb, yb) pair\n",
    "        row = self.csv.iloc[index]\n",
    "        wav, _ = torchaudio.load(self.path / \"audio\" / row[\"filename\"])\n",
    "        label = row[\"target\"]\n",
    "        xb = self.db(self.melspec(self.resample(wav)))\n",
    "        return xb, label\n",
    "\n",
    "    def __len__(self):\n",
    "        # Return Length\n",
    "        return len(self.csv)"
   ]
  },
  {
   "cell_type": "code",
   "execution_count": 38,
   "metadata": {},
   "outputs": [],
   "source": [
    "train_data = ESC50Dataset(folds=[1])"
   ]
  },
  {
   "cell_type": "code",
   "execution_count": 39,
   "metadata": {},
   "outputs": [],
   "source": [
    "for xb, yb in train_data:\n",
    "    break"
   ]
  },
  {
   "cell_type": "code",
   "execution_count": 40,
   "metadata": {},
   "outputs": [
    {
     "output_type": "execute_result",
     "data": {
      "text/plain": [
       "torch.Size([1, 128, 201])"
      ]
     },
     "metadata": {},
     "execution_count": 40
    }
   ],
   "source": [
    "xb.shape"
   ]
  },
  {
   "cell_type": "code",
   "execution_count": 41,
   "metadata": {},
   "outputs": [
    {
     "output_type": "execute_result",
     "data": {
      "text/plain": [
       "0"
      ]
     },
     "metadata": {},
     "execution_count": 41
    }
   ],
   "source": [
    "yb"
   ]
  },
  {
   "cell_type": "code",
   "execution_count": 42,
   "metadata": {},
   "outputs": [],
   "source": [
    "train_data = ESC50Dataset(folds=[1])\n",
    "val_data = ESC50Dataset(folds=[2])\n",
    "test_data = ESC50Dataset(folds=[3])"
   ]
  },
  {
   "cell_type": "code",
   "execution_count": 61,
   "metadata": {},
   "outputs": [],
   "source": [
    "train_loader = torch.utils.data.DataLoader(train_data, batch_size=8, shuffle=True, num_workers=0)"
   ]
  },
  {
   "cell_type": "code",
   "execution_count": 62,
   "metadata": {},
   "outputs": [],
   "source": [
    "val_loader = torch.utils.data.DataLoader(val_data, batch_size=8, num_workers=0)"
   ]
  },
  {
   "cell_type": "code",
   "execution_count": 63,
   "metadata": {},
   "outputs": [],
   "source": [
    "test_loader = torch.utils.data.DataLoader(test_data, batch_size=8, num_workers=0)"
   ]
  },
  {
   "source": [
    "## Building the model"
   ],
   "cell_type": "markdown",
   "metadata": {}
  },
  {
   "cell_type": "code",
   "execution_count": 49,
   "metadata": {},
   "outputs": [],
   "source": [
    "class AudioNet(pl.LightningModule):\n",
    "    \n",
    "    def __init__(self, n_classes = 50, base_filters = 32):\n",
    "        super().__init__()\n",
    "        self.conv1 = nn.Conv2d(1, base_filters, 11, padding=5)\n",
    "        self.bn1 = nn.BatchNorm2d(base_filters)\n",
    "        self.conv2 = nn.Conv2d(base_filters, base_filters, 3, padding=1)\n",
    "        self.bn2 = nn.BatchNorm2d(base_filters)\n",
    "        self.pool1 = nn.MaxPool2d(2)\n",
    "        self.conv3 = nn.Conv2d(base_filters, base_filters * 2, 3, padding=1)\n",
    "        self.bn3 = nn.BatchNorm2d(base_filters * 2)\n",
    "        self.conv4 = nn.Conv2d(base_filters * 2, base_filters * 4, 3, padding=1)\n",
    "        self.bn4 = nn.BatchNorm2d(base_filters * 4)\n",
    "        self.pool2 = nn.MaxPool2d(2)\n",
    "        self.fc1 = nn.Linear(base_filters * 4, n_classes)\n",
    "        \n",
    "    def forward(self, x):\n",
    "        x = self.conv1(x)\n",
    "        x = F.relu(self.bn1(x))\n",
    "        x = self.conv2(x)\n",
    "        x = F.relu(self.bn2(x))\n",
    "        x = self.pool1(x)\n",
    "        x = self.conv3(x)\n",
    "        x = F.relu(self.bn3(x))\n",
    "        x = self.conv4(x)\n",
    "        x = F.relu(self.bn4(x))\n",
    "        x = self.pool2(x)\n",
    "        x = F.adaptive_avg_pool2d(x, (1, 1))\n",
    "        x = self.fc1(x[:, :, 0, 0])\n",
    "        return x\n",
    "    \n",
    "    def training_step(self, batch, batch_idx):\n",
    "        # Very simple training loop\n",
    "        x, y = batch\n",
    "        y_hat = self(x)\n",
    "        loss = F.cross_entropy(y_hat, y)\n",
    "        self.log('train_loss', loss, on_step=True)\n",
    "        return loss\n",
    "    \n",
    "    def validation_step(self, batch, batch_idx):\n",
    "        x, y = batch\n",
    "        y_hat = self(x)\n",
    "        y_hat = torch.argmax(y_hat, dim=1)\n",
    "        acc = functional.accuracy(y_hat, y)\n",
    "        self.log('val_acc', acc, on_epoch=True, prog_bar=True)\n",
    "        return acc\n",
    "        \n",
    "    def configure_optimizers(self):\n",
    "        optimizer = torch.optim.Adam(self.parameters(), lr=1e-3)\n",
    "        return optimizer"
   ]
  },
  {
   "cell_type": "code",
   "execution_count": 48,
   "metadata": {},
   "outputs": [
    {
     "output_type": "stream",
     "name": "stderr",
     "text": [
      "Global seed set to 0\n"
     ]
    },
    {
     "output_type": "execute_result",
     "data": {
      "text/plain": [
       "0"
      ]
     },
     "metadata": {},
     "execution_count": 48
    }
   ],
   "source": [
    "pl.seed_everything(0)"
   ]
  },
  {
   "cell_type": "code",
   "execution_count": 50,
   "metadata": {},
   "outputs": [
    {
     "output_type": "execute_result",
     "data": {
      "text/plain": [
       "torch.Size([8, 50])"
      ]
     },
     "metadata": {},
     "execution_count": 50
    }
   ],
   "source": [
    "audionet = AudioNet()\n",
    "xb, yb = next(iter(train_loader))\n",
    "audionet(xb).shape"
   ]
  },
  {
   "cell_type": "code",
   "execution_count": 65,
   "metadata": {},
   "outputs": [
    {
     "output_type": "stream",
     "name": "stderr",
     "text": [
      "GPU available: False, used: False\n",
      "TPU available: False, using: 0 TPU cores\n"
     ]
    }
   ],
   "source": [
    "trainer = pl.Trainer(max_epochs=1)"
   ]
  },
  {
   "cell_type": "code",
   "execution_count": 66,
   "metadata": {},
   "outputs": [
    {
     "output_type": "stream",
     "name": "stdout",
     "text": [
      "                                                              \n",
      "   | Name  | Type        | Params\n",
      "---------------------------------------\n",
      "0  | conv1 | Conv2d      | 3.9 K \n",
      "1  | bn1   | BatchNorm2d | 64    \n",
      "2  | conv2 | Conv2d      | 9.2 K \n",
      "3  | bn2   | BatchNorm2d | 64    \n",
      "4  | pool1 | MaxPool2d   | 0     \n",
      "5  | conv3 | Conv2d      | 18.5 K\n",
      "6  | bn3   | BatchNorm2d | 128   \n",
      "7  | conv4 | Conv2d      | 73.9 K\n",
      "8  | bn4   | BatchNorm2d | 256   \n",
      "9  | pool2 | MaxPool2d   | 0     \n",
      "10 | fc1   | Linear      | 6.5 K \n",
      "---------------------------------------\n",
      "112 K     Trainable params\n",
      "0         Non-trainable params\n",
      "112 K     Total params\n",
      "0.450     Total estimated model params size (MB)\n",
      "Validation sanity check:   0%|          | 0/2 [00:00<?, ?it/s]D:\\G\\miniconda\\envs\\d2l\\lib\\site-packages\\pytorch_lightning\\utilities\\distributed.py:69: UserWarning: The dataloader, val dataloader 0, does not have many workers which may be a bottleneck. Consider increasing the value of the `num_workers` argument` (try 4 which is the number of cpus on this machine) in the `DataLoader` init to improve performance.\n",
      "  warnings.warn(*args, **kwargs)\n",
      "                                                                      Global seed set to 0\n",
      "Epoch 0:   0%|          | 0/100 [00:00<?, ?it/s] D:\\G\\miniconda\\envs\\d2l\\lib\\site-packages\\pytorch_lightning\\utilities\\distributed.py:69: UserWarning: The dataloader, train dataloader, does not have many workers which may be a bottleneck. Consider increasing the value of the `num_workers` argument` (try 4 which is the number of cpus on this machine) in the `DataLoader` init to improve performance.\n",
      "  warnings.warn(*args, **kwargs)\n",
      "Epoch 0:  50%|█████     | 50/100 [01:21<01:21,  1.63s/it, loss=3.65, v_num=2, val_acc=0.125]\n",
      "Validating: 0it [00:00, ?it/s]\u001b[A\n",
      "Validating:   0%|          | 0/50 [00:00<?, ?it/s]\u001b[A\n",
      "Epoch 0:  52%|█████▏    | 52/100 [01:22<01:16,  1.58s/it, loss=3.65, v_num=2, val_acc=0.125]\n",
      "Validating:   4%|▍         | 2/50 [00:01<00:36,  1.31it/s]\u001b[A\n",
      "Epoch 0:  54%|█████▍    | 54/100 [01:23<01:11,  1.55s/it, loss=3.65, v_num=2, val_acc=0.125]\n",
      "Validating:   8%|▊         | 4/50 [00:03<00:35,  1.30it/s]\u001b[A\n",
      "Epoch 0:  56%|█████▌    | 56/100 [01:25<01:07,  1.53s/it, loss=3.65, v_num=2, val_acc=0.125]\n",
      "Validating:  12%|█▏        | 6/50 [00:04<00:34,  1.29it/s]\u001b[A\n",
      "Epoch 0:  58%|█████▊    | 58/100 [01:26<01:02,  1.50s/it, loss=3.65, v_num=2, val_acc=0.125]\n",
      "Validating:  16%|█▌        | 8/50 [00:06<00:31,  1.34it/s]\u001b[A\n",
      "Epoch 0:  60%|██████    | 60/100 [01:28<00:58,  1.47s/it, loss=3.65, v_num=2, val_acc=0.125]\n",
      "Validating:  20%|██        | 10/50 [00:07<00:29,  1.34it/s]\u001b[A\n",
      "Epoch 0:  62%|██████▏   | 62/100 [01:30<00:55,  1.45s/it, loss=3.65, v_num=2, val_acc=0.125]\n",
      "Validating:  24%|██▍       | 12/50 [00:09<00:35,  1.08it/s]\u001b[A\n",
      "Epoch 0:  64%|██████▍   | 64/100 [01:32<00:52,  1.45s/it, loss=3.65, v_num=2, val_acc=0.125]\n",
      "Validating:  28%|██▊       | 14/50 [00:12<00:39,  1.10s/it]\u001b[A\n",
      "Epoch 0:  66%|██████▌   | 66/100 [01:34<00:48,  1.43s/it, loss=3.65, v_num=2, val_acc=0.125]\n",
      "Validating:  32%|███▏      | 16/50 [00:13<00:33,  1.01it/s]\u001b[A\n",
      "Epoch 0:  68%|██████▊   | 68/100 [01:36<00:45,  1.42s/it, loss=3.65, v_num=2, val_acc=0.125]\n",
      "Validating:  36%|███▌      | 18/50 [00:15<00:27,  1.18it/s]\u001b[A\n",
      "Epoch 0:  70%|███████   | 70/100 [01:37<00:41,  1.40s/it, loss=3.65, v_num=2, val_acc=0.125]\n",
      "Validating:  40%|████      | 20/50 [00:16<00:24,  1.25it/s]\u001b[A\n",
      "Epoch 0:  72%|███████▏  | 72/100 [01:39<00:38,  1.38s/it, loss=3.65, v_num=2, val_acc=0.125]\n",
      "Validating:  44%|████▍     | 22/50 [00:18<00:22,  1.24it/s]\u001b[A\n",
      "Epoch 0:  74%|███████▍  | 74/100 [01:40<00:35,  1.36s/it, loss=3.65, v_num=2, val_acc=0.125]\n",
      "Validating:  48%|████▊     | 24/50 [00:20<00:20,  1.25it/s]\u001b[A\n",
      "Epoch 0:  76%|███████▌  | 76/100 [01:42<00:32,  1.35s/it, loss=3.65, v_num=2, val_acc=0.125]\n",
      "Validating:  52%|█████▏    | 26/50 [00:21<00:18,  1.28it/s]\u001b[A\n",
      "Epoch 0:  78%|███████▊  | 78/100 [01:44<00:29,  1.33s/it, loss=3.65, v_num=2, val_acc=0.125]\n",
      "Validating:  56%|█████▌    | 28/50 [00:23<00:16,  1.33it/s]\u001b[A\n",
      "Epoch 0:  80%|████████  | 80/100 [01:45<00:26,  1.32s/it, loss=3.65, v_num=2, val_acc=0.125]\n",
      "Validating:  60%|██████    | 30/50 [00:24<00:14,  1.35it/s]\u001b[A\n",
      "Epoch 0:  82%|████████▏ | 82/100 [01:46<00:23,  1.30s/it, loss=3.65, v_num=2, val_acc=0.125]\n",
      "Validating:  64%|██████▍   | 32/50 [00:26<00:14,  1.27it/s]\u001b[A\n",
      "Epoch 0:  84%|████████▍ | 84/100 [01:48<00:20,  1.29s/it, loss=3.65, v_num=2, val_acc=0.125]\n",
      "Validating:  68%|██████▊   | 34/50 [00:27<00:13,  1.20it/s]\u001b[A\n",
      "Epoch 0:  86%|████████▌ | 86/100 [01:50<00:17,  1.28s/it, loss=3.65, v_num=2, val_acc=0.125]\n",
      "Validating:  72%|███████▏  | 36/50 [00:29<00:11,  1.22it/s]\u001b[A\n",
      "Epoch 0:  88%|████████▊ | 88/100 [01:51<00:15,  1.27s/it, loss=3.65, v_num=2, val_acc=0.125]\n",
      "Validating:  76%|███████▌  | 38/50 [00:31<00:09,  1.27it/s]\u001b[A\n",
      "Epoch 0:  90%|█████████ | 90/100 [01:53<00:12,  1.26s/it, loss=3.65, v_num=2, val_acc=0.125]\n",
      "Validating:  80%|████████  | 40/50 [00:32<00:07,  1.25it/s]\u001b[A\n",
      "Epoch 0:  92%|█████████▏| 92/100 [01:55<00:10,  1.25s/it, loss=3.65, v_num=2, val_acc=0.125]\n",
      "Validating:  84%|████████▍ | 42/50 [00:34<00:06,  1.26it/s]\u001b[A\n",
      "Epoch 0:  94%|█████████▍| 94/100 [01:56<00:07,  1.24s/it, loss=3.65, v_num=2, val_acc=0.125]\n",
      "Validating:  88%|████████▊ | 44/50 [00:36<00:04,  1.21it/s]\u001b[A\n",
      "Epoch 0:  96%|█████████▌| 96/100 [01:58<00:04,  1.23s/it, loss=3.65, v_num=2, val_acc=0.125]\n",
      "Validating:  92%|█████████▏| 46/50 [00:37<00:03,  1.23it/s]\u001b[A\n",
      "Epoch 0:  98%|█████████▊| 98/100 [02:00<00:02,  1.23s/it, loss=3.65, v_num=2, val_acc=0.125]\n",
      "Validating:  96%|█████████▌| 48/50 [00:39<00:01,  1.24it/s]\u001b[A\n",
      "Epoch 0: 100%|██████████| 100/100 [02:01<00:00,  1.22s/it, loss=3.65, v_num=2, val_acc=0.125]\n",
      "Epoch 0: 100%|██████████| 100/100 [02:02<00:00,  1.22s/it, loss=3.65, v_num=2, val_acc=0.100]\n",
      "Epoch 0: 100%|██████████| 100/100 [02:02<00:00,  1.22s/it, loss=3.65, v_num=2, val_acc=0.100]\n"
     ]
    }
   ],
   "source": [
    "trainer.fit(audionet, train_loader, val_loader)"
   ]
  },
  {
   "cell_type": "code",
   "execution_count": null,
   "metadata": {},
   "outputs": [],
   "source": []
  }
 ]
}